{
 "cells": [
  {
   "cell_type": "code",
   "execution_count": 56,
   "metadata": {},
   "outputs": [],
   "source": [
    "import numpy as np \n",
    "import pandas as pd \n",
    "import random\n",
    "import matplotlib.pyplot as plt"
   ]
  },
  {
   "cell_type": "code",
   "execution_count": 57,
   "metadata": {},
   "outputs": [
    {
     "name": "stdout",
     "output_type": "stream",
     "text": [
      "['C', 'C', 'A', 'T', 'C', 'G', 'C', 'C', 'A', 'T', 'C', 'G']\n",
      "['G', 'C', 'A', 'T', 'C', 'G', 'G', 'C']\n",
      "[0, 0, 0, 0, 0, 2, 0, 0, 0, 0, 0, 0]\n",
      "[0, 2, 0, 0, 0, 0, 0, 2, 0, 0, 0, 0]\n",
      "[0, 0, 2, 0, 0, 0, 0, 0, 2, 0, 0, 0]\n",
      "[0, 0, 0, 2, 0, 0, 0, 0, 0, 2, 0, 0]\n",
      "[0, 0, 0, 0, 2, 0, 0, 0, 0, 0, 2, 0]\n",
      "[0, 0, 0, 0, 0, 0, 0, 0, 0, 0, 0, 0]\n",
      "[0, 0, 0, 0, 0, 2, 0, 0, 0, 0, 0, 0]\n",
      "[0, 0, 0, 0, 0, 0, 0, 0, 0, 0, 0, 0]\n"
     ]
    },
    {
     "data": {
      "image/png": "[encoded data removed]",
      "text/plain": [
       "<Figure size 640x480 with 2 Axes>"
      ]
     },
     "metadata": {},
     "output_type": "display_data"
    }
   ],
   "source": [
    "user_choose = 1\n",
    "\n",
    "if user_choose == 1:\n",
    "    sequence_j = [\"C\", \"C\", \"A\", \"T\", \"C\", \"G\", \"C\", \"C\", \"A\", \"T\", \"C\", \"G\"]\n",
    "    sequence_i = [\"G\", \"C\", \"A\", \"T\", \"C\", \"G\", \"G\", \"C\"]\n",
    "elif user_choose == 2:\n",
    "    base = [\"A\", \"G\", \"C\", \"T\"]\n",
    "    lenght_sequence_j = 12\n",
    "    lenght_sequence_i = 8\n",
    "    sequence_i = []\n",
    "    sequence_j = []\n",
    "    for i in range(lenght_sequence_j):\n",
    "        sequence_j.append(base[random.randint(0,3)])\n",
    "    for i in range (lenght_sequence_i):\n",
    "        sequence_i.append(base[random.randint(0,3)])\n",
    "elif user_choose == 3:\n",
    "    input_user_j = str(input(\"Input sequence for J sequence:\"))\n",
    "    input_user_i = str(input(\"Input sequence for J sequence:\"))\n",
    "    sequence_i = []\n",
    "    sequence_j = []\n",
    "    for base in range(len(input_user_j)):\n",
    "        sequence_j.append(input_user_j[base])\n",
    "    for base in range(len(input_user_i)):\n",
    "        sequence_i.append(input_user_i[base])\n",
    "\n",
    "\n",
    "print(sequence_j)\n",
    "print(sequence_i)\n",
    "k = 2\n",
    "labels_i = sequence_i\n",
    "labels_j = sequence_j\n",
    "# Inisialisasi matriks kesamaan dengan nol\n",
    "matrix = [[0] * len(sequence_j) for _ in range(len(sequence_i))]\n",
    "\n",
    "# Buat matriks kesamaan\n",
    "for i in range(len(sequence_i)):\n",
    "    for j in range(len(sequence_j)):\n",
    "        subsequence_i = sequence_i[i:i + k]\n",
    "        subsequence_j = sequence_j[j:j + k]\n",
    "        if subsequence_i == subsequence_j:\n",
    "            matrix[i][j] = k\n",
    "\n",
    "# Tampilkan matriks kesamaan\n",
    "for row in matrix:\n",
    "    print(row)\n",
    "\n",
    "# Gunakan fungsi imshow untuk menggambar matriks\n",
    "plt.imshow(matrix, cmap='viridis')  # cmap adalah peta warna yang digunakan\n",
    "# Tambahkan label untuk kolom (Sequence J)\n",
    "plt.xticks(range(len(sequence_j)), sequence_j)\n",
    "plt.xlabel(\"Sequence J\")\n",
    "\n",
    "# Tambahkan label untuk baris (Sequence I)\n",
    "plt.yticks(range(len(sequence_i)), sequence_i)\n",
    "plt.ylabel(\"Sequence I\")\n",
    "\n",
    "# Tambahkan bar warna\n",
    "plt.colorbar()\n",
    "\n",
    "# Tampilkan plot\n",
    "plt.show()\n"
   ]
  },
  {
   "cell_type": "code",
   "execution_count": 58,
   "metadata": {},
   "outputs": [
    {
     "name": "stdout",
     "output_type": "stream",
     "text": [
      "[['C', 'C'], ['C', 'A'], ['A', 'T'], ['T', 'C'], ['C', 'G'], ['G', 'C'], ['C', 'C'], ['C', 'A'], ['A', 'T'], ['T', 'C'], ['C', 'G']]\n",
      "[['G', 'C'], ['C', 'A'], ['A', 'T'], ['T', 'C'], ['C', 'G'], ['G', 'G'], ['G', 'C']]\n",
      "7\n",
      "11\n"
     ]
    }
   ],
   "source": [
    "matrix_sequence_j = []\n",
    "matrix_sequence_i = []\n",
    "\n",
    "for i in range(len(sequence_j) - k + 1):\n",
    "    temp = sequence_j[i:i + k]\n",
    "    matrix_sequence_j.append(temp)\n",
    "\n",
    "for i in range(len(sequence_i) - k + 1):\n",
    "    temp = sequence_i[i:i + k]\n",
    "    matrix_sequence_i.append(temp)\n",
    "\n",
    "print(matrix_sequence_j)\n",
    "print(matrix_sequence_i)\n",
    "print(len(matrix_sequence_i))\n",
    "print(len(matrix_sequence_j))\n"
   ]
  },
  {
   "cell_type": "code",
   "execution_count": 59,
   "metadata": {},
   "outputs": [
    {
     "name": "stdout",
     "output_type": "stream",
     "text": [
      "{-10: 0, -9: 0, -8: 0, -7: 0, -6: 0, -5: 0, -4: 0, -3: 0, -2: 0, -1: 0, 0: 0, 1: 0, 2: 0, 3: 0, 4: 0, 5: 0, 6: 0}\n",
      "1 - 6 = -5\n",
      "2 - 2 = 0\n",
      "2 - 8 = -6\n",
      "3 - 3 = 0\n",
      "3 - 9 = -6\n",
      "4 - 4 = 0\n",
      "4 - 10 = -6\n",
      "5 - 5 = 0\n",
      "5 - 11 = -6\n",
      "7 - 6 = 1\n",
      "    key  value\n",
      "0   -10      0\n",
      "1    -9      0\n",
      "2    -8      0\n",
      "3    -7      0\n",
      "4    -6      4\n",
      "5    -5      1\n",
      "6    -4      0\n",
      "7    -3      0\n",
      "8    -2      0\n",
      "9    -1      0\n",
      "10    0      4\n",
      "11    1      1\n",
      "12    2      0\n",
      "13    3      0\n",
      "14    4      0\n",
      "15    5      0\n",
      "16    6      0\n"
     ]
    }
   ],
   "source": [
    "#Library to store matching sequence \n",
    "n = len(sequence_i)  \n",
    "m = len(sequence_j)-1\n",
    "Sl_dict = {}\n",
    "\n",
    "\n",
    "for x in range(1 - m, n - 1):\n",
    "    Sl = x # Kunci\n",
    "    Sl_dict[Sl] = 0  \n",
    "\n",
    "print(Sl_dict)\n",
    "for i in range (len(matrix_sequence_i)):\n",
    "    for j in range (len(matrix_sequence_j)):\n",
    "        if matrix_sequence_i[i] == matrix_sequence_j[j]:\n",
    "            temp = (i + 1) - (j+1)\n",
    "            print(f\"{(i + 1)} - {(j+1)} = {temp}\")\n",
    "            key = temp\n",
    "            if key in Sl_dict:\n",
    "                Sl_dict[key] += 1\n",
    "# Konversi kamus Sl_dict ke DataFrame\n",
    "df = pd.DataFrame(list(Sl_dict.items()), columns=['key', 'value'])\n",
    "\n",
    "# Menampilkan DataFrame\n",
    "print(df)"
   ]
  }
 ],
 "metadata": {
  "kernelspec": {
   "display_name": "Python 3",
   "language": "python",
   "name": "python3"
  },
  "language_info": {
   "codemirror_mode": {
    "name": "ipython",
    "version": 3
   },
   "file_extension": ".py",
   "mimetype": "text/x-python",
   "name": "python",
   "nbconvert_exporter": "python",
   "pygments_lexer": "ipython3",
   "version": "3.11.1"
  }
 },
 "nbformat": 4,
 "nbformat_minor": 2
}
